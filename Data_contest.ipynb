{
  "nbformat": 4,
  "nbformat_minor": 0,
  "metadata": {
    "colab": {
      "provenance": []
    },
    "kernelspec": {
      "name": "python3",
      "display_name": "Python 3"
    },
    "language_info": {
      "name": "python"
    }
  },
  "cells": [
    {
      "cell_type": "markdown",
      "source": [
        "\n",
        "# **Python Basic Examination**\n",
        "\n"
      ],
      "metadata": {
        "id": "hhbAKYpwyNHN"
      }
    },
    {
      "cell_type": "code",
      "execution_count": null,
      "metadata": {
        "id": "VlZ8x4ssyKGe"
      },
      "outputs": [],
      "source": []
    },
    {
      "cell_type": "markdown",
      "source": [
        "Section (A)\n",
        "\n",
        "Q. 1 Which of the following is  used to store text in Python ?\n",
        "\n",
        "Ans-- (C) str .\n",
        "\n",
        "Q. 2 What is the output of the following code ?\n",
        "print(2+ 3*4)\n",
        "\n",
        "Ans --   (a) 14\n",
        "\n",
        "Q. 3 Which of the following data structure stores key-value pairs ?\n",
        "Ans-- (C) dictionary\n",
        "\n",
        "Q.4   Which keyword is used for making decision in python ?\n",
        "Ans-- (B) if\n",
        "\n",
        "Q.5   Which of the following is NOT a valid python data type ?\n",
        "Ans-- (D) char\n",
        "\n",
        "                                                A2\n",
        "\n",
        "\n",
        "\n",
        "\n",
        "\n",
        "A2. Fill in th blank\n",
        "\n",
        "Q. 6\n",
        "Ans-- List\n",
        "\n",
        "Q.7\n",
        "Ans-- Lambda\n",
        "\n",
        "Q.8\n",
        "Ans -- Dictonary\n",
        "\n",
        "Q.9\n",
        "Ans-- Pandas\n",
        "\n",
        "Q.10\n",
        "Ans-- int(value)\n",
        "\n",
        "Q.11\n",
        "Ans -- True\n",
        "\n",
        "Q.12\n",
        "Ans-- True\n",
        "\n",
        "Q.13\n",
        "Ans-- False\n",
        "\n",
        "Q.14\n",
        "Ans-- True\n",
        "\n",
        "\n",
        "\n",
        "                                                      A4\n",
        "\n",
        "                                        Match the Column\n",
        "\n",
        "1. len()   - (d) Returns the number of the item in an object.\n",
        "2. pandas  - (e) A library for numerical operations.\n",
        "3. type()  - (b) Returns the data type of an object.\n",
        "4. append()- (a) Used to add an item to a list.\n",
        "5. numpy   - (c) A library for data analysis and manipulation.\n",
        "\n",
        "\n",
        "\n",
        "\n",
        "                                                         \n",
        "\n",
        "\n",
        "\n",
        "\n",
        "\n",
        "\n"
      ],
      "metadata": {
        "id": "mL-LG41HydUp"
      }
    },
    {
      "cell_type": "code",
      "source": [
        "                                                      #SECTION \" B \"\n",
        "\n",
        "                                                     #Coding Question\n",
        "\n",
        "\n",
        "#B1 , Ans\n",
        "number = int(input(\"enter a number:  \") )\n",
        "if number % 2:\n",
        "  print(\" the number is even\")\n",
        "\n",
        "else:\n",
        "  print(\"the number is odd\")"
      ],
      "metadata": {
        "colab": {
          "base_uri": "https://localhost:8080/"
        },
        "id": "zllU4k7a54t0",
        "outputId": "761c9b26-1947-47e5-ff34-9a9d2b2edaf0"
      },
      "execution_count": 15,
      "outputs": [
        {
          "output_type": "stream",
          "name": "stdout",
          "text": [
            "enter a number:  5\n",
            " the number is even\n"
          ]
        }
      ]
    }
  ]
}